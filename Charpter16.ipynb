{
 "cells": [
  {
   "cell_type": "code",
   "execution_count": 17,
   "metadata": {},
   "outputs": [],
   "source": [
    "import numpy as np"
   ]
  },
  {
   "cell_type": "code",
   "execution_count": 49,
   "metadata": {},
   "outputs": [],
   "source": [
    "# 16.1\n",
    "s = [1,3,0,5,3,5,6,8,8,2,12]\n",
    "f = [4,5,6,7,9,9,10,11,12,14,16]"
   ]
  },
  {
   "cell_type": "code",
   "execution_count": 13,
   "metadata": {},
   "outputs": [],
   "source": [
    "# 16.1\n",
    "def RecursiveActivitySelection(s, f, k, n):\n",
    "    m = k+1\n",
    "    while m<=n and s[m]<f[k]:\n",
    "        m += 1\n",
    "    if m<=n:\n",
    "        print(s[m],f[m])\n",
    "        return [m,] + RecursiveActivitySelection(s, f, m, n)\n",
    "    else:\n",
    "        return []"
   ]
  },
  {
   "cell_type": "code",
   "execution_count": 14,
   "metadata": {},
   "outputs": [
    {
     "name": "stdout",
     "output_type": "stream",
     "text": [
      "1 4\n",
      "5 7\n",
      "8 11\n",
      "12 16\n"
     ]
    },
    {
     "data": {
      "text/plain": [
       "[1, 4, 8, 11]"
      ]
     },
     "execution_count": 14,
     "metadata": {},
     "output_type": "execute_result"
    }
   ],
   "source": [
    "s_fictitious = [0]+s\n",
    "f_fictitious = [0]+f\n",
    "RecursiveActivitySelection(s_fictitious,f_fictitious,0,11)"
   ]
  },
  {
   "cell_type": "code",
   "execution_count": 15,
   "metadata": {},
   "outputs": [],
   "source": [
    "def GreedyActivitySelection(s,f):\n",
    "    k = 1\n",
    "    A = [1,]\n",
    "    for m in range(2,len(s)):\n",
    "        if s[m]>=f[k]:\n",
    "            A = A + [m,]\n",
    "            k = m\n",
    "    return A"
   ]
  },
  {
   "cell_type": "code",
   "execution_count": 16,
   "metadata": {},
   "outputs": [
    {
     "data": {
      "text/plain": [
       "[1, 4, 8, 11]"
      ]
     },
     "execution_count": 16,
     "metadata": {},
     "output_type": "execute_result"
    }
   ],
   "source": [
    "GreedyActivitySelection(s_fictitious, f_fictitious)"
   ]
  },
  {
   "cell_type": "code",
   "execution_count": 59,
   "metadata": {},
   "outputs": [],
   "source": [
    "s = [1,3,0,5,3,5,6,8,8,2,12]\n",
    "f = [4,5,6,7,9,9,10,11,12,14,16]\n",
    "\n",
    "#16.1.1\n",
    "def DynamicActivitySelelction(s,f):\n",
    "    n = len(s)\n",
    "    dp_mat = np.zeros((n,n), dtype='int')\n",
    "    \n",
    "    retrieve_mat = np.empty((n,n), dtype='int')\n",
    "    retrieve_mat.fill(-1)\n",
    "    for l in range(2,n+1):\n",
    "        for i in range(0, n-l):\n",
    "            j = i+l # open\n",
    "            for k in range(i,j):\n",
    "                if s[k]>=f[i] and f[k]<=s[j]:\n",
    "                    cur_val = dp_mat[i,k]+dp_mat[k,j]+1\n",
    "                    if dp_mat[i,j]<cur_val:\n",
    "                        dp_mat[i,j] = cur_val\n",
    "                        retrieve_mat[i,j] = k\n",
    "    return dp_mat, retrieve_mat"
   ]
  },
  {
   "cell_type": "code",
   "execution_count": 60,
   "metadata": {},
   "outputs": [
    {
     "data": {
      "text/plain": [
       "(array([[0, 0, 0, 0, 0, 0, 0, 1, 1, 0, 2],\n",
       "        [0, 0, 0, 0, 0, 0, 0, 1, 1, 0, 2],\n",
       "        [0, 0, 0, 0, 0, 0, 0, 0, 0, 0, 1],\n",
       "        [0, 0, 0, 0, 0, 0, 0, 0, 0, 0, 1],\n",
       "        [0, 0, 0, 0, 0, 0, 0, 0, 0, 0, 0],\n",
       "        [0, 0, 0, 0, 0, 0, 0, 0, 0, 0, 0],\n",
       "        [0, 0, 0, 0, 0, 0, 0, 0, 0, 0, 0],\n",
       "        [0, 0, 0, 0, 0, 0, 0, 0, 0, 0, 0],\n",
       "        [0, 0, 0, 0, 0, 0, 0, 0, 0, 0, 0],\n",
       "        [0, 0, 0, 0, 0, 0, 0, 0, 0, 0, 0],\n",
       "        [0, 0, 0, 0, 0, 0, 0, 0, 0, 0, 0]]),\n",
       " array([[-1, -1, -1, -1, -1, -1, -1,  3,  3, -1,  3],\n",
       "        [-1, -1, -1, -1, -1, -1, -1,  3,  3, -1,  3],\n",
       "        [-1, -1, -1, -1, -1, -1, -1, -1, -1, -1,  6],\n",
       "        [-1, -1, -1, -1, -1, -1, -1, -1, -1, -1,  7],\n",
       "        [-1, -1, -1, -1, -1, -1, -1, -1, -1, -1, -1],\n",
       "        [-1, -1, -1, -1, -1, -1, -1, -1, -1, -1, -1],\n",
       "        [-1, -1, -1, -1, -1, -1, -1, -1, -1, -1, -1],\n",
       "        [-1, -1, -1, -1, -1, -1, -1, -1, -1, -1, -1],\n",
       "        [-1, -1, -1, -1, -1, -1, -1, -1, -1, -1, -1],\n",
       "        [-1, -1, -1, -1, -1, -1, -1, -1, -1, -1, -1],\n",
       "        [-1, -1, -1, -1, -1, -1, -1, -1, -1, -1, -1]]))"
      ]
     },
     "execution_count": 60,
     "metadata": {},
     "output_type": "execute_result"
    }
   ],
   "source": [
    "DynamicActivitySelelction(s,f)"
   ]
  },
  {
   "cell_type": "code",
   "execution_count": null,
   "metadata": {},
   "outputs": [],
   "source": []
  },
  {
   "cell_type": "code",
   "execution_count": null,
   "metadata": {},
   "outputs": [],
   "source": []
  }
 ],
 "metadata": {
  "kernelspec": {
   "display_name": "Python 3",
   "language": "python",
   "name": "python3"
  },
  "language_info": {
   "codemirror_mode": {
    "name": "ipython",
    "version": 3
   },
   "file_extension": ".py",
   "mimetype": "text/x-python",
   "name": "python",
   "nbconvert_exporter": "python",
   "pygments_lexer": "ipython3",
   "version": "3.7.6"
  }
 },
 "nbformat": 4,
 "nbformat_minor": 4
}
