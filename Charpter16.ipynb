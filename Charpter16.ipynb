{
 "cells": [
  {
   "cell_type": "code",
   "execution_count": 3,
   "metadata": {},
   "outputs": [],
   "source": [
    "# 16.1\n",
    "s = [1,3,0,5,3,5,6,8,8,2,12]\n",
    "f = [4,5,6,7,9,9,10,11,12,14,16]"
   ]
  },
  {
   "cell_type": "code",
   "execution_count": 13,
   "metadata": {},
   "outputs": [],
   "source": [
    "# 16.1\n",
    "def RecursiveActivitySelection(s, f, k, n):\n",
    "    m = k+1\n",
    "    while m<=n and s[m]<f[k]:\n",
    "        m += 1\n",
    "    if m<=n:\n",
    "        print(s[m],f[m])\n",
    "        return [m,] + RecursiveActivitySelection(s, f, m, n)\n",
    "    else:\n",
    "        return []"
   ]
  },
  {
   "cell_type": "code",
   "execution_count": 14,
   "metadata": {},
   "outputs": [
    {
     "name": "stdout",
     "output_type": "stream",
     "text": [
      "1 4\n",
      "5 7\n",
      "8 11\n",
      "12 16\n"
     ]
    },
    {
     "data": {
      "text/plain": [
       "[1, 4, 8, 11]"
      ]
     },
     "execution_count": 14,
     "metadata": {},
     "output_type": "execute_result"
    }
   ],
   "source": [
    "s_fictitious = [0]+s\n",
    "f_fictitious = [0]+f\n",
    "RecursiveActivitySelection(s_fictitious,f_fictitious,0,11)"
   ]
  },
  {
   "cell_type": "code",
   "execution_count": 15,
   "metadata": {},
   "outputs": [],
   "source": [
    "def GreedyActivity_Selection(s,f):\n",
    "    k = 1\n",
    "    A = [1,]\n",
    "    for m in range(2,len(s)):\n",
    "        if s[m]>=f[k]:\n",
    "            A = A + [m,]\n",
    "            k = m\n",
    "    return A"
   ]
  },
  {
   "cell_type": "code",
   "execution_count": 16,
   "metadata": {},
   "outputs": [
    {
     "data": {
      "text/plain": [
       "[1, 4, 8, 11]"
      ]
     },
     "execution_count": 16,
     "metadata": {},
     "output_type": "execute_result"
    }
   ],
   "source": [
    "GreedyActivity_Selection(s_fictitious, f_fictitious)"
   ]
  },
  {
   "cell_type": "code",
   "execution_count": null,
   "metadata": {},
   "outputs": [],
   "source": []
  }
 ],
 "metadata": {
  "kernelspec": {
   "display_name": "Python 3",
   "language": "python",
   "name": "python3"
  },
  "language_info": {
   "codemirror_mode": {
    "name": "ipython",
    "version": 3
   },
   "file_extension": ".py",
   "mimetype": "text/x-python",
   "name": "python",
   "nbconvert_exporter": "python",
   "pygments_lexer": "ipython3",
   "version": "3.7.6"
  }
 },
 "nbformat": 4,
 "nbformat_minor": 4
}
