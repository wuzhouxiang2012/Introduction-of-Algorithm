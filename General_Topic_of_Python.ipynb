{
 "cells": [
  {
   "cell_type": "markdown",
   "metadata": {},
   "source": [
    "## General Topic of Python "
   ]
  },
  {
   "cell_type": "markdown",
   "metadata": {},
   "source": [
    "### comparable class and comparator \n",
    "Normally, you need to implement following functions in your class.\n",
    "\n",
    "<ul>\n",
    "    <li>Operator Method</li>\n",
    "    <li>==\t__eq__</li>\n",
    "    <li>!=\t__ne__</li>\n",
    "    <li>&lt\t__lt__</li>\n",
    "    <li>&lt=\t__le__</li>\n",
    "    <li>>\t__gt__</li>\n",
    "    <li>>=\t__ge__</li>\n",
    "</ul>\n",
    "\n",
    "To avoid the hassle of providing all six functions, you can implement __eq__, __ne__, and only one of the ordering operators, and use the functools.total_ordering() decorator to fill in the rest.\n",
    "\n",
    "\n",
    "\n",
    "\n",
    "\n",
    "\n",
    "\n",
    "\n"
   ]
  },
  {
   "cell_type": "code",
   "execution_count": null,
   "metadata": {},
   "outputs": [],
   "source": []
  }
 ],
 "metadata": {
  "kernelspec": {
   "display_name": "Python 3",
   "language": "python",
   "name": "python3"
  },
  "language_info": {
   "codemirror_mode": {
    "name": "ipython",
    "version": 3
   },
   "file_extension": ".py",
   "mimetype": "text/x-python",
   "name": "python",
   "nbconvert_exporter": "python",
   "pygments_lexer": "ipython3",
   "version": "3.7.6"
  }
 },
 "nbformat": 4,
 "nbformat_minor": 4
}
