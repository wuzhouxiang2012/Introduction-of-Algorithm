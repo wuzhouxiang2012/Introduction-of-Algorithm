{
 "cells": [
  {
   "cell_type": "code",
   "execution_count": 6,
   "metadata": {},
   "outputs": [],
   "source": [
    "import numpy as np\n",
    "import sys"
   ]
  },
  {
   "cell_type": "markdown",
   "metadata": {},
   "source": [
    "# 15.2 Matrix-chain multiplication"
   ]
  },
  {
   "cell_type": "code",
   "execution_count": 41,
   "metadata": {},
   "outputs": [],
   "source": [
    "def matrix_chain_order(p):\n",
    "    n = len(p)-1\n",
    "    m = np.zeros((n,n), dtype='int')\n",
    "    s = np.zeros((n,n), dtype='int')\n",
    "    for l in range(2, n+1):\n",
    "        for i in range(0, n-l+1):\n",
    "            j = i+l-1\n",
    "            m[i,j] = sys.maxsize\n",
    "#             print(i, j)\n",
    "            for k in range(i,j):\n",
    "                q = m[i,k]+m[k+1,j]+p[i]*p[k+1]*p[j+1]\n",
    "                if q<m[i,j]:\n",
    "                    m[i,j]=q\n",
    "                    s[i,j]=k+1\n",
    "    return m, s"
   ]
  },
  {
   "cell_type": "code",
   "execution_count": 42,
   "metadata": {},
   "outputs": [],
   "source": [
    "p = [30, 35, 15,5,10,20,25] # 7 items\n",
    "m, s = matrix_chain_order(p)"
   ]
  },
  {
   "cell_type": "code",
   "execution_count": 43,
   "metadata": {},
   "outputs": [
    {
     "data": {
      "text/plain": [
       "array([[    0, 15750,  7875,  9375, 11875, 15125],\n",
       "       [    0,     0,  2625,  4375,  7125, 10500],\n",
       "       [    0,     0,     0,   750,  2500,  5375],\n",
       "       [    0,     0,     0,     0,  1000,  3500],\n",
       "       [    0,     0,     0,     0,     0,  5000],\n",
       "       [    0,     0,     0,     0,     0,     0]])"
      ]
     },
     "execution_count": 43,
     "metadata": {},
     "output_type": "execute_result"
    }
   ],
   "source": [
    "m"
   ]
  },
  {
   "cell_type": "code",
   "execution_count": 44,
   "metadata": {},
   "outputs": [
    {
     "data": {
      "text/plain": [
       "array([[0, 1, 1, 3, 3, 3],\n",
       "       [0, 0, 2, 3, 3, 3],\n",
       "       [0, 0, 0, 3, 3, 3],\n",
       "       [0, 0, 0, 0, 4, 5],\n",
       "       [0, 0, 0, 0, 0, 5],\n",
       "       [0, 0, 0, 0, 0, 0]])"
      ]
     },
     "execution_count": 44,
     "metadata": {},
     "output_type": "execute_result"
    }
   ],
   "source": [
    "s"
   ]
  },
  {
   "cell_type": "code",
   "execution_count": 49,
   "metadata": {},
   "outputs": [],
   "source": [
    "def print_optimal_parens(s,i,j):\n",
    "    if i==j:\n",
    "        print(f'A{i+1}', end='')\n",
    "    else:\n",
    "        print('(', end='')\n",
    "        print_optimal_parens(s, i, s[i,j]-1)\n",
    "        print_optimal_parens(s, s[i,j], j)\n",
    "        print(')', end='')\n",
    "        "
   ]
  },
  {
   "cell_type": "code",
   "execution_count": 50,
   "metadata": {},
   "outputs": [
    {
     "name": "stdout",
     "output_type": "stream",
     "text": [
      "((A1(A2A3))((A4A5)A6))"
     ]
    }
   ],
   "source": [
    "print_optimal_parens(s, 0, 5)"
   ]
  },
  {
   "cell_type": "code",
   "execution_count": null,
   "metadata": {},
   "outputs": [],
   "source": []
  }
 ],
 "metadata": {
  "kernelspec": {
   "display_name": "Python 3",
   "language": "python",
   "name": "python3"
  },
  "language_info": {
   "codemirror_mode": {
    "name": "ipython",
    "version": 3
   },
   "file_extension": ".py",
   "mimetype": "text/x-python",
   "name": "python",
   "nbconvert_exporter": "python",
   "pygments_lexer": "ipython3",
   "version": "3.7.6"
  }
 },
 "nbformat": 4,
 "nbformat_minor": 4
}
