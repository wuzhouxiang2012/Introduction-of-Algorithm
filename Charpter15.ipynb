{
 "cells": [
  {
   "cell_type": "code",
   "execution_count": 1,
   "metadata": {},
   "outputs": [],
   "source": [
    "import numpy as np\n",
    "import sys"
   ]
  },
  {
   "cell_type": "markdown",
   "metadata": {},
   "source": [
    "# 15.2 Matrix-chain multiplication"
   ]
  },
  {
   "cell_type": "code",
   "execution_count": 41,
   "metadata": {},
   "outputs": [],
   "source": [
    "def matrix_chain_order(p):\n",
    "    n = len(p)-1\n",
    "    m = np.zeros((n,n), dtype='int')\n",
    "    s = np.zeros((n,n), dtype='int')\n",
    "    for l in range(2, n+1):\n",
    "        for i in range(0, n-l+1):\n",
    "            j = i+l-1\n",
    "            m[i,j] = sys.maxsize\n",
    "#             print(i, j)\n",
    "            for k in range(i,j):\n",
    "                q = m[i,k]+m[k+1,j]+p[i]*p[k+1]*p[j+1]\n",
    "                if q<m[i,j]:\n",
    "                    m[i,j]=q\n",
    "                    s[i,j]=k+1\n",
    "    return m, s"
   ]
  },
  {
   "cell_type": "code",
   "execution_count": 42,
   "metadata": {},
   "outputs": [],
   "source": [
    "p = [30, 35, 15,5,10,20,25] # 7 items\n",
    "m, s = matrix_chain_order(p)"
   ]
  },
  {
   "cell_type": "code",
   "execution_count": 43,
   "metadata": {},
   "outputs": [
    {
     "data": {
      "text/plain": [
       "array([[    0, 15750,  7875,  9375, 11875, 15125],\n",
       "       [    0,     0,  2625,  4375,  7125, 10500],\n",
       "       [    0,     0,     0,   750,  2500,  5375],\n",
       "       [    0,     0,     0,     0,  1000,  3500],\n",
       "       [    0,     0,     0,     0,     0,  5000],\n",
       "       [    0,     0,     0,     0,     0,     0]])"
      ]
     },
     "execution_count": 43,
     "metadata": {},
     "output_type": "execute_result"
    }
   ],
   "source": [
    "m"
   ]
  },
  {
   "cell_type": "code",
   "execution_count": 44,
   "metadata": {},
   "outputs": [
    {
     "data": {
      "text/plain": [
       "array([[0, 1, 1, 3, 3, 3],\n",
       "       [0, 0, 2, 3, 3, 3],\n",
       "       [0, 0, 0, 3, 3, 3],\n",
       "       [0, 0, 0, 0, 4, 5],\n",
       "       [0, 0, 0, 0, 0, 5],\n",
       "       [0, 0, 0, 0, 0, 0]])"
      ]
     },
     "execution_count": 44,
     "metadata": {},
     "output_type": "execute_result"
    }
   ],
   "source": [
    "s"
   ]
  },
  {
   "cell_type": "code",
   "execution_count": 49,
   "metadata": {},
   "outputs": [],
   "source": [
    "def print_optimal_parens(s,i,j):\n",
    "    if i==j:\n",
    "        print(f'A{i+1}', end='')\n",
    "    else:\n",
    "        print('(', end='')\n",
    "        print_optimal_parens(s, i, s[i,j]-1)\n",
    "        print_optimal_parens(s, s[i,j], j)\n",
    "        print(')', end='')\n",
    "        "
   ]
  },
  {
   "cell_type": "code",
   "execution_count": 50,
   "metadata": {},
   "outputs": [
    {
     "name": "stdout",
     "output_type": "stream",
     "text": [
      "((A1(A2A3))((A4A5)A6))"
     ]
    }
   ],
   "source": [
    "print_optimal_parens(s, 0, 5)"
   ]
  },
  {
   "cell_type": "markdown",
   "metadata": {},
   "source": [
    "# 15.4 Longest common subsequence"
   ]
  },
  {
   "cell_type": "code",
   "execution_count": 18,
   "metadata": {},
   "outputs": [],
   "source": [
    "def LCS_length(X, Y):\n",
    "    m = len(X)\n",
    "    n = len(Y)\n",
    "    B = np.empty((m+1, n+1), dtype='int')\n",
    "    C = np.empty((m+1, n+1), dtype='int')\n",
    "    for i in range(m+1):\n",
    "        C[i,0] = 0\n",
    "        B[i,0] = -1\n",
    "    for j in range(n+1):\n",
    "        C[0,j] = 0\n",
    "        B[0,j] = -1\n",
    "    # up left concer arrow 0, up arrow 1, left arrow 2\n",
    "    for i in range(1, m+1):\n",
    "        for j in range(1, n+1):\n",
    "            if X[i-1]==Y[j-1]:\n",
    "                C[i,j] = C[i-1,j-1]+1\n",
    "                B[i,j] = 0\n",
    "            elif C[i-1,j] >= C[i,j-1]:\n",
    "                C[i,j] = C[i-1, j]\n",
    "                B[i,j] = 1\n",
    "            else:\n",
    "                C[i,j] = C[i, j-1]\n",
    "                B[i,j] = 2\n",
    "    return C, B"
   ]
  },
  {
   "cell_type": "code",
   "execution_count": 19,
   "metadata": {},
   "outputs": [],
   "source": [
    "X = ['A','B','C','B','D','A','B']\n",
    "Y = ['B','D','C','A','B','A']"
   ]
  },
  {
   "cell_type": "code",
   "execution_count": 20,
   "metadata": {},
   "outputs": [],
   "source": [
    "C, B = LCS_length(X, Y)"
   ]
  },
  {
   "cell_type": "code",
   "execution_count": 21,
   "metadata": {},
   "outputs": [
    {
     "data": {
      "text/plain": [
       "array([[0, 0, 0, 0, 0, 0, 0],\n",
       "       [0, 0, 0, 0, 1, 1, 1],\n",
       "       [0, 1, 1, 1, 1, 2, 2],\n",
       "       [0, 1, 1, 2, 2, 2, 2],\n",
       "       [0, 1, 1, 2, 2, 3, 3],\n",
       "       [0, 1, 2, 2, 2, 3, 3],\n",
       "       [0, 1, 2, 2, 3, 3, 4],\n",
       "       [0, 1, 2, 2, 3, 4, 4]])"
      ]
     },
     "execution_count": 21,
     "metadata": {},
     "output_type": "execute_result"
    }
   ],
   "source": [
    "C"
   ]
  },
  {
   "cell_type": "code",
   "execution_count": 22,
   "metadata": {},
   "outputs": [
    {
     "data": {
      "text/plain": [
       "array([[-1, -1, -1, -1, -1, -1, -1],\n",
       "       [-1,  1,  1,  1,  0,  2,  0],\n",
       "       [-1,  0,  2,  2,  1,  0,  2],\n",
       "       [-1,  1,  1,  0,  2,  1,  1],\n",
       "       [-1,  0,  1,  1,  1,  0,  2],\n",
       "       [-1,  1,  0,  1,  1,  1,  1],\n",
       "       [-1,  1,  1,  1,  0,  1,  0],\n",
       "       [-1,  0,  1,  1,  1,  0,  1]])"
      ]
     },
     "execution_count": 22,
     "metadata": {},
     "output_type": "execute_result"
    }
   ],
   "source": [
    "B"
   ]
  },
  {
   "cell_type": "code",
   "execution_count": 23,
   "metadata": {},
   "outputs": [],
   "source": [
    "def PRINT_LCS(B, X, i,j):\n",
    "    if i==0 or j==0:\n",
    "        return\n",
    "    if B[i,j]==0:\n",
    "        PRINT_LCS(B,X,i-1,j-1)\n",
    "        print(X[i-1], end='')\n",
    "    elif B[i,j]==1:\n",
    "        PRINT_LCS(B,X,i-1,j)\n",
    "    else:\n",
    "        PRINT_LCS(B,X,i,j-1)"
   ]
  },
  {
   "cell_type": "code",
   "execution_count": 24,
   "metadata": {},
   "outputs": [
    {
     "name": "stdout",
     "output_type": "stream",
     "text": [
      "BCBA"
     ]
    }
   ],
   "source": [
    "PRINT_LCS(B, X, len(X), len(Y))"
   ]
  },
  {
   "cell_type": "markdown",
   "metadata": {},
   "source": [
    "# Exercises 15.4-1"
   ]
  },
  {
   "cell_type": "code",
   "execution_count": 25,
   "metadata": {},
   "outputs": [],
   "source": [
    "X = ['1','0','0','1','0','1','0','1']\n",
    "Y = ['0','1','0','1','1','0','1','1','0']"
   ]
  },
  {
   "cell_type": "code",
   "execution_count": 35,
   "metadata": {},
   "outputs": [
    {
     "data": {
      "text/plain": [
       "6"
      ]
     },
     "execution_count": 35,
     "metadata": {},
     "output_type": "execute_result"
    }
   ],
   "source": [
    "C, B = LCS_length(X, Y)\n",
    "C[8, 9]"
   ]
  },
  {
   "cell_type": "code",
   "execution_count": 36,
   "metadata": {},
   "outputs": [
    {
     "name": "stdout",
     "output_type": "stream",
     "text": [
      "100110"
     ]
    }
   ],
   "source": [
    "PRINT_LCS(B,X,8,9)"
   ]
  },
  {
   "cell_type": "code",
   "execution_count": 45,
   "metadata": {},
   "outputs": [],
   "source": [
    "def PRINT_LCS2(C, X, i, j):\n",
    "    if i==0 or j ==0:\n",
    "        return\n",
    "    if C[i,j]==C[i-1,j]+1 and C[i,j-1]+1:\n",
    "        PRINT_LCS2(C, X, i-1, j-1)\n",
    "        print(X[i-1], end='')\n",
    "    elif C[i,j]==C[i-1,j]:\n",
    "        PRINT_LCS2(C, X, i-1, j)\n",
    "    else:\n",
    "        PRINT_LCS2(C, X, i, j-1)"
   ]
  },
  {
   "cell_type": "code",
   "execution_count": 46,
   "metadata": {},
   "outputs": [
    {
     "name": "stdout",
     "output_type": "stream",
     "text": [
      "100110"
     ]
    }
   ],
   "source": [
    "PRINT_LCS2(C,X,8,9)"
   ]
  },
  {
   "cell_type": "code",
   "execution_count": 39,
   "metadata": {},
   "outputs": [
    {
     "data": {
      "text/plain": [
       "array([[0, 0, 0, 0, 0, 0, 0, 0, 0, 0],\n",
       "       [0, 0, 1, 1, 1, 1, 1, 1, 1, 1],\n",
       "       [0, 1, 1, 2, 2, 2, 2, 2, 2, 2],\n",
       "       [0, 1, 1, 2, 2, 2, 3, 3, 3, 3],\n",
       "       [0, 1, 2, 2, 3, 3, 3, 4, 4, 4],\n",
       "       [0, 1, 2, 3, 3, 3, 4, 4, 4, 5],\n",
       "       [0, 1, 2, 3, 4, 4, 4, 5, 5, 5],\n",
       "       [0, 1, 2, 3, 4, 4, 5, 5, 5, 6],\n",
       "       [0, 1, 2, 3, 4, 5, 5, 6, 6, 6]])"
      ]
     },
     "execution_count": 39,
     "metadata": {},
     "output_type": "execute_result"
    }
   ],
   "source": [
    "C"
   ]
  },
  {
   "cell_type": "code",
   "execution_count": 40,
   "metadata": {},
   "outputs": [
    {
     "data": {
      "text/plain": [
       "array([[-1, -1, -1, -1, -1, -1, -1, -1, -1, -1],\n",
       "       [-1,  1,  0,  2,  0,  0,  2,  0,  0,  2],\n",
       "       [-1,  0,  1,  0,  2,  2,  0,  2,  2,  0],\n",
       "       [-1,  0,  1,  0,  1,  1,  0,  2,  2,  0],\n",
       "       [-1,  1,  0,  1,  0,  0,  1,  0,  0,  2],\n",
       "       [-1,  0,  1,  0,  1,  1,  0,  1,  1,  0],\n",
       "       [-1,  1,  0,  1,  0,  0,  1,  0,  0,  1],\n",
       "       [-1,  0,  1,  0,  1,  1,  0,  1,  1,  0],\n",
       "       [-1,  1,  0,  1,  0,  0,  1,  0,  0,  1]])"
      ]
     },
     "execution_count": 40,
     "metadata": {},
     "output_type": "execute_result"
    }
   ],
   "source": [
    "B"
   ]
  },
  {
   "cell_type": "markdown",
   "metadata": {},
   "source": [
    "# Exercises 15.4-5"
   ]
  },
  {
   "cell_type": "code",
   "execution_count": null,
   "metadata": {},
   "outputs": [],
   "source": [
    "# Example 2, 5, 1, 4, 3, 9, 6, 7\n",
    "# Solution: 1. sort list 2. find longest common subsequence\n",
    "A = []"
   ]
  }
 ],
 "metadata": {
  "kernelspec": {
   "display_name": "Python 3",
   "language": "python",
   "name": "python3"
  },
  "language_info": {
   "codemirror_mode": {
    "name": "ipython",
    "version": 3
   },
   "file_extension": ".py",
   "mimetype": "text/x-python",
   "name": "python",
   "nbconvert_exporter": "python",
   "pygments_lexer": "ipython3",
   "version": "3.7.6"
  }
 },
 "nbformat": 4,
 "nbformat_minor": 4
}
